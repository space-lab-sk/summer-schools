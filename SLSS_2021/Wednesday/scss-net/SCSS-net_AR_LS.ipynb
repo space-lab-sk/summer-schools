{
 "cells": [
  {
   "cell_type": "markdown",
   "metadata": {},
   "source": [
    "# SCSS-Net: Solar Corona Structures Segmentation by Deep Learning\n",
    "\n",
    "\n",
    "---\n",
    "\n",
    "\n",
    "#          Part II: Segmentation of Active Regions\n",
    "\n",
    "---\n",
    "\n"
   ]
  },
  {
   "cell_type": "markdown",
   "metadata": {},
   "source": [
    "## Jupyter notebook – Segmentation of Active Regions\n",
    "In the following, we present the data and Python methods used for analysis described in the article. Here is an overview of the Jupyter notebook:\n",
    "1. Environment set-up\n",
    "2. Data preparation\n",
    "3. Deep learning approach\n",
    "4. Results of SCSS-net\n"
   ]
  },
  {
   "cell_type": "markdown",
   "metadata": {},
   "source": [
    "# 1. Environment set-up"
   ]
  },
  {
   "cell_type": "markdown",
   "metadata": {},
   "source": [
    "* Import libraries"
   ]
  },
  {
   "cell_type": "code",
   "execution_count": null,
   "metadata": {},
   "outputs": [],
   "source": [
    "import boto3\n",
    "import zipfile\n",
    "import glob\n",
    "from datetime import datetime\n",
    "from PIL import Image\n",
    "import matplotlib.pylab as plt\n",
    "from matplotlib.gridspec import GridSpec\n",
    "from sklearn.model_selection import train_test_split\n",
    "from tensorflow.keras.callbacks import ModelCheckpoint\n",
    "import albumentations\n",
    "from ImageDataAugmentor.image_data_augmentor import *"
   ]
  },
  {
   "cell_type": "markdown",
   "metadata": {},
   "source": [
    "* Import local utilities"
   ]
  },
  {
   "cell_type": "code",
   "execution_count": null,
   "metadata": {},
   "outputs": [],
   "source": [
    "import sys, os\n",
    "sys.path.append('../scss-net/src')\n",
    "from model_scss_net import scss_net\n",
    "from metrics import dice_np, iou_np, dice, iou\n",
    "from utils import plot_imgs, plot_metrics"
   ]
  },
  {
   "cell_type": "markdown",
   "metadata": {},
   "source": [
    "# 2. Data preparation"
   ]
  },
  {
   "cell_type": "markdown",
   "metadata": {},
   "source": [
    "Solar Dynamic Observatory / Atmospheric Imaging Assembly - SDO / AIA 193 data are used in this work. For more data details refer to [NASA web page](https://sdo.gsfc.nasa.gov). The data were downloaded via [Helioviewer API](https://api.helioviewer.org) for the same date and time as the time stamp of available annotations.  \n",
    "\n",
    "Annotations used in this notebook are combination of following sources:\n",
    "* [Custom](https://github.com/space-lab-sk/scss-net/blob/main/src/custom_data_preparation.ipynb) *(this Jupyter notebook also contains steps to preprocess SDO/AIA data and Custom annotations)*\n",
    "* [SPoCA](https://www.lmsal.com/hek/)"
   ]
  },
  {
   "cell_type": "markdown",
   "metadata": {},
   "source": [
    "*Spoca AR*:                                                         \n",
    "<img src=\"Obrázok1.png\" alt=\"drawing\" width=\"350\"/> *Custom AR*:<img src=\"custom.png\" alt=\"drawing\" width=\"350\"/>\n",
    "\n",
    " "
   ]
  },
  {
   "cell_type": "code",
   "execution_count": null,
   "metadata": {},
   "outputs": [],
   "source": [
    "# download raw data\n",
    "s3_client = boto3.client('s3')\n",
    "\n",
    "bucket = 'summer-school-data-2021'\n",
    "key = '171.zip'\n",
    "download_path = f'{os.getcwd()}/{key}'\n",
    "s3_client.download_file(bucket, key, download_path)"
   ]
  },
  {
   "cell_type": "markdown",
   "metadata": {},
   "source": [
    "* Unzip\n"
   ]
  },
  {
   "cell_type": "code",
   "execution_count": null,
   "metadata": {},
   "outputs": [],
   "source": [
    "# TODO"
   ]
  },
  {
   "cell_type": "markdown",
   "metadata": {},
   "source": [
    "* Create lists with path to each image file (**spoca and zooniverse**) and annotation and **merge both data sources**"
   ]
  },
  {
   "cell_type": "code",
   "execution_count": null,
   "metadata": {},
   "outputs": [],
   "source": [
    "# TODO"
   ]
  },
  {
   "cell_type": "markdown",
   "metadata": {},
   "source": [
    "* Set global variables"
   ]
  },
  {
   "cell_type": "code",
   "execution_count": null,
   "metadata": {},
   "outputs": [],
   "source": [
    "IMG_SIZE = 256     # resize imgs to 256x256\n",
    "BATCH_SIZE = 20    # Set batch size\n",
    "SEED = 42          # set seed for reproducibility\n",
    "EPOCHS = 100       # Set number of epochs\n",
    "NB_IMGS = 500      # Number of images to consider (because of memory issues)\n",
    "\n",
    "MODEL_NAME = \"model_ar_spoca\"                   # Specify model name\n",
    "model_filename = f\"./{MODEL_NAME}.h5\"           # Specify path where to save model"
   ]
  },
  {
   "cell_type": "markdown",
   "metadata": {},
   "source": [
    "* Load, Resize, and Convert data to list of np arrays \n",
    "    - **you need list of input images and list of annotations**"
   ]
  },
  {
   "cell_type": "code",
   "execution_count": null,
   "metadata": {},
   "outputs": [],
   "source": [
    "# TODO"
   ]
  },
  {
   "cell_type": "markdown",
   "metadata": {},
   "source": [
    "* Normalize to 0-1 and chcek shape"
   ]
  },
  {
   "cell_type": "code",
   "execution_count": null,
   "metadata": {},
   "outputs": [],
   "source": [
    "# TODO"
   ]
  },
  {
   "cell_type": "markdown",
   "metadata": {},
   "source": [
    "* Reshape to (n_imgs, height, width, channels)"
   ]
  },
  {
   "cell_type": "code",
   "execution_count": null,
   "metadata": {},
   "outputs": [],
   "source": [
    "# TODO"
   ]
  },
  {
   "cell_type": "markdown",
   "metadata": {},
   "source": [
    "* Split data to Train set (80%) and Validation set (20%)"
   ]
  },
  {
   "cell_type": "code",
   "execution_count": null,
   "metadata": {},
   "outputs": [],
   "source": [
    "# TODO"
   ]
  },
  {
   "cell_type": "markdown",
   "metadata": {},
   "source": [
    "* Add augumentations to train set"
   ]
  },
  {
   "cell_type": "code",
   "execution_count": null,
   "metadata": {},
   "outputs": [],
   "source": [
    "# TODO"
   ]
  },
  {
   "cell_type": "markdown",
   "metadata": {},
   "source": [
    "* Plot samples of augmented imgs"
   ]
  },
  {
   "cell_type": "code",
   "execution_count": null,
   "metadata": {},
   "outputs": [],
   "source": [
    "# TODO"
   ]
  },
  {
   "cell_type": "markdown",
   "metadata": {},
   "source": [
    "* Chcek if shapes of input is suitable for model training (**input shape should be (256, 256, 1)**)"
   ]
  },
  {
   "cell_type": "code",
   "execution_count": null,
   "metadata": {},
   "outputs": [],
   "source": [
    "# TODO"
   ]
  },
  {
   "cell_type": "markdown",
   "metadata": {},
   "source": [
    "# 3. Deep learning approach"
   ]
  },
  {
   "cell_type": "markdown",
   "metadata": {},
   "source": [
    "* The SCSS-net model architecture is defined in **../src/model_scss_net.py**. Load the model with the parameters that were found to be optimal for Coronal Holes. This is transfer learning (develop model approach)."
   ]
  },
  {
   "cell_type": "code",
   "execution_count": null,
   "metadata": {},
   "outputs": [],
   "source": [
    "# TODO\n",
    "\n",
    "# Create model with specific parameteres\n",
    "\n",
    "# Compile model\n"
   ]
  },
  {
   "cell_type": "code",
   "execution_count": null,
   "metadata": {},
   "outputs": [],
   "source": [
    "# download already trained model (~100 MB)\n",
    "bucket = 'summer-school-data-2021'\n",
    "key = 'model_ar_spoca.h5'\n",
    "download_path = f'{os.getcwd()}/{key}'\n",
    "s3_client.download_file(bucket, key, download_path)"
   ]
  },
  {
   "cell_type": "markdown",
   "metadata": {},
   "source": [
    "* Load the trained model"
   ]
  },
  {
   "cell_type": "code",
   "execution_count": null,
   "metadata": {},
   "outputs": [],
   "source": [
    "# TODO"
   ]
  },
  {
   "cell_type": "markdown",
   "metadata": {},
   "source": [
    "# 4. Results od SCSS-net"
   ]
  },
  {
   "cell_type": "markdown",
   "metadata": {},
   "source": [
    "## 4.1 Results on validation set"
   ]
  },
  {
   "cell_type": "markdown",
   "metadata": {},
   "source": [
    "* Predict new masks for validation set"
   ]
  },
  {
   "cell_type": "code",
   "execution_count": null,
   "metadata": {},
   "outputs": [],
   "source": [
    "# TODO"
   ]
  },
  {
   "cell_type": "markdown",
   "metadata": {},
   "source": [
    "* Plot Image sequence: \n",
    " - input image for SCSS-Net \n",
    " - ground truth (i.e. annotation mask)\n",
    " - output of SCSS-Net (i.e. predicted segmentation mask)\n",
    " - predicted segmentation mask as an overlay on the input image"
   ]
  },
  {
   "cell_type": "code",
   "execution_count": null,
   "metadata": {},
   "outputs": [],
   "source": [
    "# TODO"
   ]
  },
  {
   "cell_type": "markdown",
   "metadata": {},
   "source": [
    "* Calculate averaged metrics (Dice and IoU) over the validation set without and with applied threshold (change the threshold and check the change in metrics)"
   ]
  },
  {
   "cell_type": "code",
   "execution_count": null,
   "metadata": {},
   "outputs": [],
   "source": [
    "# TODO"
   ]
  },
  {
   "cell_type": "markdown",
   "metadata": {},
   "source": [
    "## 4.2 Results on test set"
   ]
  },
  {
   "cell_type": "markdown",
   "metadata": {},
   "source": [
    "* Prepare test set\n"
   ]
  },
  {
   "cell_type": "code",
   "execution_count": null,
   "metadata": {},
   "outputs": [],
   "source": [
    "imgs_test = glob.glob(\"./data/171_test/imgs/*.png\")\n",
    "masks_test = glob.glob(\"./data/171_test/masks(spoca)/*.png\")\n",
    "\n",
    "print(f\"Imgs number = {len(imgs_test)}\\nMasks number = {len(masks_test)}\")"
   ]
  },
  {
   "cell_type": "markdown",
   "metadata": {},
   "source": [
    "*  Load data and convert imgs to np.array"
   ]
  },
  {
   "cell_type": "code",
   "execution_count": null,
   "metadata": {},
   "outputs": [],
   "source": [
    "# TODO"
   ]
  },
  {
   "cell_type": "markdown",
   "metadata": {},
   "source": [
    "* Normalization 0-1"
   ]
  },
  {
   "cell_type": "code",
   "execution_count": null,
   "metadata": {},
   "outputs": [],
   "source": [
    "# TODO"
   ]
  },
  {
   "cell_type": "markdown",
   "metadata": {},
   "source": [
    "* Reshape to (n_imgs, height, width, channels)"
   ]
  },
  {
   "cell_type": "code",
   "execution_count": null,
   "metadata": {},
   "outputs": [],
   "source": [
    "# TODO"
   ]
  },
  {
   "cell_type": "markdown",
   "metadata": {},
   "source": [
    "* Predict new masks for test set and plot image sequence:"
   ]
  },
  {
   "cell_type": "code",
   "execution_count": null,
   "metadata": {},
   "outputs": [],
   "source": [
    "# TODO"
   ]
  },
  {
   "cell_type": "markdown",
   "metadata": {},
   "source": [
    "* Calculate averaged metrics over the test set without and with applied threshold"
   ]
  },
  {
   "cell_type": "code",
   "execution_count": null,
   "metadata": {},
   "outputs": [],
   "source": [
    "# TODO"
   ]
  }
 ],
 "metadata": {
  "kernelspec": {
   "display_name": "Python 3",
   "language": "python",
   "name": "python3"
  },
  "language_info": {
   "codemirror_mode": {
    "name": "ipython",
    "version": 3
   },
   "file_extension": ".py",
   "mimetype": "text/x-python",
   "name": "python",
   "nbconvert_exporter": "python",
   "pygments_lexer": "ipython3",
   "version": "3.8.3"
  }
 },
 "nbformat": 4,
 "nbformat_minor": 4
}
