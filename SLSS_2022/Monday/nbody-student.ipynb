{
 "cells": [
  {
   "cell_type": "code",
   "execution_count": null,
   "metadata": {
    "pycharm": {
     "name": "#%%\n"
    },
    "tags": []
   },
   "outputs": [],
   "source": [
    "import numpy as np\n",
    "import tensorflow as tf\n",
    "from nbody import getAcc_naive, getAcc_numpy"
   ]
  },
  {
   "cell_type": "code",
   "execution_count": null,
   "metadata": {
    "collapsed": false,
    "jupyter": {
     "outputs_hidden": false
    },
    "pycharm": {
     "name": "#%%\n"
    },
    "tags": []
   },
   "outputs": [],
   "source": [
    "# Simulation parameters\n",
    "N = 1000  # Number of particles\n",
    "t = 0  # current time of the simulation\n",
    "tEnd = 10.0  # time at which simulation ends\n",
    "dt = 0.01  # timestep\n",
    "softening = 0.1  # softening length\n",
    "G = 1.0  # Newton's Gravitational Constant\n",
    "plotRealTime = True  # switch on for plotting as the simulation goes along"
   ]
  },
  {
   "cell_type": "code",
   "execution_count": null,
   "metadata": {
    "collapsed": false,
    "jupyter": {
     "outputs_hidden": false
    },
    "pycharm": {
     "name": "#%%\n"
    },
    "tags": []
   },
   "outputs": [],
   "source": [
    "# Generate Initial Conditions\n",
    "np.random.seed(17)  # set the random number generator seed\n",
    "\n",
    "mass = 20.0 * np.ones((N, 1)) / N  # total mass of particles is 20\n",
    "mass_sq = np.squeeze(mass)\n",
    "pos = np.random.randn(N, 3)  # randomly selected positions and velocities\n",
    "vel = np.random.randn(N, 3)\n",
    "\n",
    "# Convert to Center-of-Mass frame\n",
    "vel -= np.mean(mass * vel, 0) / np.mean(mass)"
   ]
  },
  {
   "cell_type": "code",
   "execution_count": null,
   "metadata": {
    "collapsed": false,
    "jupyter": {
     "outputs_hidden": false
    },
    "pycharm": {
     "name": "#%%\n"
    },
    "tags": []
   },
   "outputs": [],
   "source": [
    "# %%timeit\n",
    "N = pos.shape[0]\n",
    "a = np.zeros((N, 3))\n",
    "\n",
    "for i in range(N):\n",
    "\tfor j in range(N):\n",
    "\t\tdx = pos[j, 0] - pos[i, 0]\n",
    "\t\tdy = pos[j, 1] - pos[i, 1]\n",
    "\t\tdz = pos[j, 2] - pos[i, 2]\n",
    "\t\tinv_r3 = (dx ** 2 + dy ** 2 + dz ** 2 + softening ** 2) ** (-1.5)\n",
    "\t\ta[i, 0] += G * (dx * inv_r3) * mass[j]\n",
    "\t\ta[i, 1] += G * (dy * inv_r3) * mass[j]\n",
    "\t\ta[i, 2] += G * (dz * inv_r3) * mass[j]\n",
    "a2 = a.copy()"
   ]
  },
  {
   "cell_type": "markdown",
   "metadata": {},
   "source": [
    "### Vectorization"
   ]
  },
  {
   "cell_type": "code",
   "execution_count": null,
   "metadata": {
    "tags": []
   },
   "outputs": [],
   "source": [
    "A = np.random.rand(1024, 1024)\n",
    "B = np.random.rand(1024, 1024)"
   ]
  },
  {
   "cell_type": "markdown",
   "metadata": {},
   "source": [
    "### Apply vectorization"
   ]
  },
  {
   "cell_type": "code",
   "execution_count": null,
   "metadata": {
    "tags": []
   },
   "outputs": [],
   "source": [
    "(np.abs(a - a2)).sum()"
   ]
  },
  {
   "cell_type": "code",
   "execution_count": null,
   "metadata": {
    "tags": []
   },
   "outputs": [],
   "source": [
    "%%timeit\n",
    "a = get_acc_numpy_one_loop(pos, mass, G, softening)"
   ]
  },
  {
   "cell_type": "markdown",
   "metadata": {},
   "source": [
    "### Full vectorization"
   ]
  },
  {
   "cell_type": "code",
   "execution_count": null,
   "metadata": {
    "pycharm": {
     "name": "#%%\n"
    },
    "tags": []
   },
   "outputs": [],
   "source": [
    "def get_acc_numpy(pos, mass, G, softening):\n",
    "    \"\"\"\n",
    "    Calculate the acceleration on each particle due to Newton's Law \n",
    "    pos  is an N x 3 matrix of positions\n",
    "    mass is an N x 1 vector of masses\n",
    "    G is Newton's Gravitational constant\n",
    "    softening is the softening length\n",
    "    a is N x 3 matrix of accelerations\n",
    "    \"\"\"\n",
    "    # positions r = [x,y,z] for all particles\n",
    "    x = pos[:, 0:1]\n",
    "    y = pos[:, 1:2]\n",
    "    z = pos[:, 2:3]\n",
    "\n",
    "    # matrix that stores all pairwise particle separations: r_j - r_i\n",
    "    dx = x.T - x\n",
    "    dy = y.T - y\n",
    "    dz = z.T - z\n",
    "\n",
    "    # matrix that stores 1/r^3 for all particle pairwise particle separations\n",
    "    inv_r3 = (dx ** 2 + dy ** 2 + dz ** 2 + softening ** 2)\n",
    "    inv_r3[inv_r3 > 0] = inv_r3[inv_r3 > 0] ** (-1.5)\n",
    "\n",
    "    ax = G * (dx * inv_r3) @ mass\n",
    "    ay = G * (dy * inv_r3) @ mass\n",
    "    az = G * (dz * inv_r3) @ mass\n",
    "\n",
    "    # pack together the acceleration components\n",
    "    a = np.hstack((ax, ay, az))\n",
    "\n",
    "    return a"
   ]
  },
  {
   "cell_type": "code",
   "execution_count": null,
   "metadata": {
    "tags": []
   },
   "outputs": [],
   "source": [
    "%%timeit\n",
    "a = get_acc_numpy(pos, mass, G, softening)"
   ]
  },
  {
   "cell_type": "markdown",
   "metadata": {},
   "source": [
    "### Quick performance test - numpy vs TF"
   ]
  },
  {
   "cell_type": "code",
   "execution_count": null,
   "metadata": {
    "tags": []
   },
   "outputs": [],
   "source": [
    "np_test_arr = np.random.randn(1024, 1024)\n",
    "tf_test_arr = tf.convert_to_tensor(np_test_arr)"
   ]
  },
  {
   "cell_type": "code",
   "execution_count": null,
   "metadata": {
    "tags": []
   },
   "outputs": [],
   "source": [
    "%%timeit\n",
    "a = tf.reduce_mean(tf_test_arr)"
   ]
  },
  {
   "cell_type": "code",
   "execution_count": null,
   "metadata": {
    "tags": []
   },
   "outputs": [],
   "source": [
    "%%timeit\n",
    "b = np.mean(np_test_arr)"
   ]
  },
  {
   "cell_type": "code",
   "execution_count": null,
   "metadata": {
    "tags": []
   },
   "outputs": [],
   "source": [
    "%%timeit\n",
    "a = tf.reduce_max(tf_test_arr)"
   ]
  },
  {
   "cell_type": "code",
   "execution_count": null,
   "metadata": {
    "tags": []
   },
   "outputs": [],
   "source": [
    "%%timeit\n",
    "b = np.max(np_test_arr)"
   ]
  },
  {
   "cell_type": "markdown",
   "metadata": {
    "execution": {
     "iopub.execute_input": "2022-08-15T11:56:33.745070Z",
     "iopub.status.busy": "2022-08-15T11:56:33.744796Z",
     "iopub.status.idle": "2022-08-15T11:56:33.749022Z",
     "shell.execute_reply": "2022-08-15T11:56:33.748079Z",
     "shell.execute_reply.started": "2022-08-15T11:56:33.745043Z"
    },
    "tags": []
   },
   "source": [
    "### Tensorflow implementation"
   ]
  },
  {
   "cell_type": "code",
   "execution_count": null,
   "metadata": {
    "collapsed": false,
    "jupyter": {
     "outputs_hidden": false
    },
    "pycharm": {
     "name": "#%%\n"
    },
    "tags": []
   },
   "outputs": [],
   "source": [
    "pos_tf = tf.convert_to_tensor(pos)\n",
    "mass_tf = tf.convert_to_tensor(mass)\n",
    "G_tf = tf.convert_to_tensor(G, dtype=tf.float64)\n",
    "softening_tf = tf.convert_to_tensor(softening, dtype=tf.float64)"
   ]
  },
  {
   "cell_type": "code",
   "execution_count": null,
   "metadata": {
    "tags": []
   },
   "outputs": [],
   "source": [
    "%%timeit\n",
    "\n",
    "# positions r = [x,y,z] for all particles\n",
    "x = pos_tf[:, 0:1]\n",
    "y = pos_tf[:, 1:2]\n",
    "z = pos_tf[:, 2:3]\n",
    "\n",
    "# matrix that stores all pairwise particle separations: r_j - r_i\n",
    "dx = tf.transpose(x) - x\n",
    "dy = tf.transpose(y) - y\n",
    "dz = tf.transpose(z) - z\n",
    "\n",
    "inv_r3 = (dx ** 2 + dy ** 2 + dz ** 2 + softening_tf ** 2) ** (-1.5)\n",
    "\n",
    "ax = G_tf * (dx * inv_r3) @ mass_tf\n",
    "ay = G_tf * (dy * inv_r3) @ mass_tf\n",
    "az = G_tf * (dz * inv_r3) @ mass_tf\n",
    "\n",
    "a = tf.concat([ax, ay, az], axis=1)"
   ]
  },
  {
   "cell_type": "code",
   "execution_count": null,
   "metadata": {
    "tags": []
   },
   "outputs": [],
   "source": [
    "def get_acc_tf(pos_tf, mass_tf, G_tf, softening_tf):\n",
    "    # positions r = [x,y,z] for all particles\n",
    "    x = pos_tf[:, 0:1]\n",
    "    y = pos_tf[:, 1:2]\n",
    "    z = pos_tf[:, 2:3]\n",
    "\n",
    "    # matrix that stores all pairwise particle separations: r_j - r_i\n",
    "    dx = tf.transpose(x) - x\n",
    "    dy = tf.transpose(y) - y\n",
    "    dz = tf.transpose(z) - z\n",
    "\n",
    "    inv_r3 = (dx ** 2 + dy ** 2 + dz ** 2 + softening_tf ** 2) ** (-1.5)\n",
    "\n",
    "    ax = G_tf * (dx * inv_r3) @ mass_tf\n",
    "    ay = G_tf * (dy * inv_r3) @ mass_tf\n",
    "    az = G_tf * (dz * inv_r3) @ mass_tf\n",
    "\n",
    "    return tf.concat([ax, ay, az], axis=1)\n",
    "\n",
    "get_acc_tf_graph = tf.function(get_acc_tf)"
   ]
  },
  {
   "cell_type": "code",
   "execution_count": null,
   "metadata": {
    "tags": []
   },
   "outputs": [],
   "source": [
    "%%timeit\n",
    "b = get_acc_tf_graph(pos_tf, mass_tf, G_tf, softening_tf)"
   ]
  },
  {
   "cell_type": "markdown",
   "metadata": {},
   "source": [
    "### Data types optimisation"
   ]
  },
  {
   "cell_type": "code",
   "execution_count": null,
   "metadata": {
    "tags": []
   },
   "outputs": [],
   "source": [
    "pos32 = pos.astype(np.float32)\n",
    "mass32 = mass.astype(np.float32)"
   ]
  },
  {
   "cell_type": "code",
   "execution_count": null,
   "metadata": {
    "tags": []
   },
   "outputs": [],
   "source": [
    "%%timeit\n",
    "### NUMPY\n",
    "a = get_acc_numpy(pos32, mass32, G, softening)"
   ]
  },
  {
   "cell_type": "code",
   "execution_count": null,
   "metadata": {
    "tags": []
   },
   "outputs": [],
   "source": [
    "pos_tf_32 = tf.convert_to_tensor(pos, dtype=tf.float32)\n",
    "mass_tf_32 = tf.convert_to_tensor(mass, dtype=tf.float32)\n",
    "G_tf_32 = tf.convert_to_tensor(G, dtype=tf.float32)\n",
    "softening_tf_32 = tf.convert_to_tensor(softening, dtype=tf.float32)"
   ]
  },
  {
   "cell_type": "code",
   "execution_count": null,
   "metadata": {
    "tags": []
   },
   "outputs": [],
   "source": [
    "%%timeit\n",
    "b = get_acc_tf_graph(pos_tf_32, mass_tf_32, G_tf_32, softening_tf_32)"
   ]
  }
 ],
 "metadata": {
  "kernelspec": {
   "display_name": "Python 3 (ipykernel)",
   "language": "python",
   "name": "python3"
  },
  "language_info": {
   "codemirror_mode": {
    "name": "ipython",
    "version": 3
   },
   "file_extension": ".py",
   "mimetype": "text/x-python",
   "name": "python",
   "nbconvert_exporter": "python",
   "pygments_lexer": "ipython3",
   "version": "3.8.8"
  }
 },
 "nbformat": 4,
 "nbformat_minor": 4
}
