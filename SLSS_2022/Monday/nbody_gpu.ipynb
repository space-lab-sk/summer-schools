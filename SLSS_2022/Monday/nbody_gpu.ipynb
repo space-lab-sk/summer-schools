{
  "cells": [
    {
      "cell_type": "code",
      "source": [
        "%%capture\n",
        "!wget --no-check-certificate 'https://docs.google.com/uc?export=download&id=1vTI1hkI5QV26zLYOo7q5piI3UEhvFSbg' -O nbody.zip\n",
        "!unzip nbody.zip\n",
        "!mv nbody-python-master/* ."
      ],
      "metadata": {
        "id": "nhEADc9AJwAf"
      },
      "execution_count": null,
      "outputs": []
    },
    {
      "cell_type": "code",
      "source": [
        "!ls"
      ],
      "metadata": {
        "id": "zU975G8pKIjE",
        "colab": {
          "base_uri": "https://localhost:8080/"
        },
        "outputId": "a3bd5cf5-0d93-45fb-f6aa-c9aac397a7d9"
      },
      "execution_count": null,
      "outputs": [
        {
          "output_type": "stream",
          "name": "stdout",
          "text": [
            "LICENSE   nbody.ipynb  nbody.py\t\t    nbody.zip\t README.md\n",
            "__MACOSX  nbody.png    nbody-python-master  __pycache__  sample_data\n"
          ]
        }
      ]
    },
    {
      "cell_type": "code",
      "source": [
        "!nvidia-smi"
      ],
      "metadata": {
        "id": "ZriJ9ewQbJxb",
        "colab": {
          "base_uri": "https://localhost:8080/"
        },
        "outputId": "13473375-84e0-46c8-8e7c-a2a1092ac90b"
      },
      "execution_count": null,
      "outputs": [
        {
          "output_type": "stream",
          "name": "stdout",
          "text": [
            "Mon Aug 22 14:20:54 2022       \n",
            "+-----------------------------------------------------------------------------+\n",
            "| NVIDIA-SMI 460.32.03    Driver Version: 460.32.03    CUDA Version: 11.2     |\n",
            "|-------------------------------+----------------------+----------------------+\n",
            "| GPU  Name        Persistence-M| Bus-Id        Disp.A | Volatile Uncorr. ECC |\n",
            "| Fan  Temp  Perf  Pwr:Usage/Cap|         Memory-Usage | GPU-Util  Compute M. |\n",
            "|                               |                      |               MIG M. |\n",
            "|===============================+======================+======================|\n",
            "|   0  Tesla T4            Off  | 00000000:00:04.0 Off |                    0 |\n",
            "| N/A   52C    P8    10W /  70W |      0MiB / 15109MiB |      0%      Default |\n",
            "|                               |                      |                  N/A |\n",
            "+-------------------------------+----------------------+----------------------+\n",
            "                                                                               \n",
            "+-----------------------------------------------------------------------------+\n",
            "| Processes:                                                                  |\n",
            "|  GPU   GI   CI        PID   Type   Process name                  GPU Memory |\n",
            "|        ID   ID                                                   Usage      |\n",
            "|=============================================================================|\n",
            "|  No running processes found                                                 |\n",
            "+-----------------------------------------------------------------------------+\n"
          ]
        }
      ]
    },
    {
      "cell_type": "markdown",
      "metadata": {
        "execution": {
          "iopub.execute_input": "2022-08-15T11:56:33.745070Z",
          "iopub.status.busy": "2022-08-15T11:56:33.744796Z",
          "iopub.status.idle": "2022-08-15T11:56:33.749022Z",
          "shell.execute_reply": "2022-08-15T11:56:33.748079Z",
          "shell.execute_reply.started": "2022-08-15T11:56:33.745043Z"
        },
        "tags": [],
        "id": "3IDLVPdOG23H"
      },
      "source": [
        "### Tensorflow implementation"
      ]
    },
    {
      "cell_type": "code",
      "execution_count": null,
      "metadata": {
        "execution": {
          "iopub.execute_input": "2022-08-16T13:13:23.484997Z",
          "iopub.status.busy": "2022-08-16T13:13:23.482487Z",
          "iopub.status.idle": "2022-08-16T13:13:23.518001Z",
          "shell.execute_reply": "2022-08-16T13:13:23.516298Z",
          "shell.execute_reply.started": "2022-08-16T13:13:23.484907Z"
        },
        "pycharm": {
          "name": "#%%\n"
        },
        "tags": [],
        "id": "Pi7pPq1OG23J"
      },
      "outputs": [],
      "source": [
        "import tensorflow as tf\n",
        "import numpy as np"
      ]
    },
    {
      "cell_type": "code",
      "source": [
        "# Simulation parameters\n",
        "N = 1000  # Number of particles\n",
        "t = 0  # current time of the simulation\n",
        "tEnd = 10.0  # time at which simulation ends\n",
        "dt = 0.01  # timestep\n",
        "softening = 0.1  # softening length\n",
        "G = 1.0  # Newton's Gravitational Constant\n",
        "plotRealTime = True  # switch on for plotting as the simulation goes along"
      ],
      "metadata": {
        "id": "Lpry6PIAthWH"
      },
      "execution_count": null,
      "outputs": []
    },
    {
      "cell_type": "code",
      "execution_count": null,
      "metadata": {
        "execution": {
          "iopub.execute_input": "2022-08-20T11:20:06.772436Z",
          "iopub.status.busy": "2022-08-20T11:20:06.772132Z",
          "iopub.status.idle": "2022-08-20T11:20:06.792319Z",
          "shell.execute_reply": "2022-08-20T11:20:06.791521Z",
          "shell.execute_reply.started": "2022-08-20T11:20:06.772407Z"
        },
        "jupyter": {
          "outputs_hidden": false
        },
        "pycharm": {
          "name": "#%%\n"
        },
        "tags": [],
        "id": "YgGkZHoVG23C"
      },
      "outputs": [],
      "source": [
        "# Generate Initial Conditions\n",
        "np.random.seed(17)  # set the random number generator seed\n",
        "\n",
        "mass = 20.0 * np.ones((N, 1)) / N  # total mass of particles is 20\n",
        "mass_sq = np.squeeze(mass)\n",
        "pos = np.random.randn(N, 3)  # randomly selected positions and velocities\n",
        "vel = np.random.randn(N, 3)\n",
        "\n",
        "# Convert to Center-of-Mass frame\n",
        "vel -= np.mean(mass * vel, 0) / np.mean(mass)"
      ]
    },
    {
      "cell_type": "code",
      "execution_count": null,
      "metadata": {
        "execution": {
          "iopub.execute_input": "2022-08-16T08:47:06.972794Z",
          "iopub.status.busy": "2022-08-16T08:47:06.972544Z",
          "iopub.status.idle": "2022-08-16T08:47:06.976813Z",
          "shell.execute_reply": "2022-08-16T08:47:06.976047Z",
          "shell.execute_reply.started": "2022-08-16T08:47:06.972768Z"
        },
        "jupyter": {
          "outputs_hidden": false
        },
        "pycharm": {
          "name": "#%%\n"
        },
        "tags": [],
        "id": "wfqkCnC_G23J"
      },
      "outputs": [],
      "source": [
        "pos_tf = tf.convert_to_tensor(pos)\n",
        "mass_tf = tf.convert_to_tensor(mass)\n",
        "G_tf = tf.convert_to_tensor(G, dtype=tf.float64)\n",
        "softening_tf = tf.convert_to_tensor(softening, dtype=tf.float64)"
      ]
    },
    {
      "cell_type": "code",
      "execution_count": null,
      "metadata": {
        "execution": {
          "iopub.execute_input": "2022-08-16T08:48:38.585783Z",
          "iopub.status.busy": "2022-08-16T08:48:38.585535Z",
          "iopub.status.idle": "2022-08-16T08:48:38.596264Z",
          "shell.execute_reply": "2022-08-16T08:48:38.595632Z",
          "shell.execute_reply.started": "2022-08-16T08:48:38.585756Z"
        },
        "tags": [],
        "id": "s9US8eRvG23K"
      },
      "outputs": [],
      "source": [
        "def get_acc_tf(pos_tf, mass_tf):\n",
        "    # positions r = [x,y,z] for all particles\n",
        "    x = pos_tf[:, 0:1]\n",
        "    y = pos_tf[:, 1:2]\n",
        "    z = pos_tf[:, 2:3]\n",
        "\n",
        "    # matrix that stores all pairwise particle separations: r_j - r_i\n",
        "    dx = tf.transpose(x) - x\n",
        "    dy = tf.transpose(y) - y\n",
        "    dz = tf.transpose(z) - z\n",
        "\n",
        "    inv_r3 = (dx ** 2 + dy ** 2 + dz ** 2 + softening_tf ** 2) ** (-1.5)\n",
        "\n",
        "    ax = G_tf * (dx * inv_r3) @ mass_tf\n",
        "    ay = G_tf * (dy * inv_r3) @ mass_tf\n",
        "    az = G_tf * (dz * inv_r3) @ mass_tf\n",
        "\n",
        "    return tf.concat([ax, ay, az], axis=1)\n",
        "\n",
        "get_acc_tf_graph = tf.function(get_acc_tf)"
      ]
    },
    {
      "cell_type": "code",
      "execution_count": null,
      "metadata": {
        "execution": {
          "iopub.execute_input": "2022-08-16T08:48:42.508247Z",
          "iopub.status.busy": "2022-08-16T08:48:42.507994Z",
          "iopub.status.idle": "2022-08-16T08:48:49.694004Z",
          "shell.execute_reply": "2022-08-16T08:48:49.693359Z",
          "shell.execute_reply.started": "2022-08-16T08:48:42.508221Z"
        },
        "tags": [],
        "id": "MbkaiP0bG23L",
        "colab": {
          "base_uri": "https://localhost:8080/"
        },
        "outputId": "a92ed381-4467-44ca-a31e-a991833bc3ce"
      },
      "outputs": [
        {
          "output_type": "stream",
          "name": "stdout",
          "text": [
            "615 µs ± 154 µs per loop (mean ± std. dev. of 7 runs, 1 loop each)\n"
          ]
        }
      ],
      "source": [
        "%%timeit\n",
        "b = get_acc_tf_graph(pos_tf, mass_tf)"
      ]
    },
    {
      "cell_type": "code",
      "source": [
        ""
      ],
      "metadata": {
        "id": "OlKE7Sipuj-Q"
      },
      "execution_count": null,
      "outputs": []
    }
  ],
  "metadata": {
    "kernelspec": {
      "display_name": "Python 3 (ipykernel)",
      "language": "python",
      "name": "python3"
    },
    "language_info": {
      "codemirror_mode": {
        "name": "ipython",
        "version": 3
      },
      "file_extension": ".py",
      "mimetype": "text/x-python",
      "name": "python",
      "nbconvert_exporter": "python",
      "pygments_lexer": "ipython3",
      "version": "3.8.8"
    },
    "colab": {
      "name": "nbody_gpu.ipynb",
      "provenance": [],
      "collapsed_sections": []
    },
    "gpuClass": "standard",
    "accelerator": "GPU"
  },
  "nbformat": 4,
  "nbformat_minor": 0
}